{
  "nbformat": 4,
  "nbformat_minor": 0,
  "metadata": {
    "colab": {
      "name": "Model.ipynb",
      "provenance": [],
      "collapsed_sections": []
    },
    "kernelspec": {
      "name": "python3",
      "display_name": "Python 3"
    },
    "language_info": {
      "name": "python"
    }
  },
  "cells": [
    {
      "cell_type": "markdown",
      "metadata": {
        "id": "gKUViF-k_Kjd"
      },
      "source": [
        "#**Group Project: Income Prediction**"
      ]
    },
    {
      "cell_type": "code",
      "metadata": {
        "id": "n3LCA1weBlma",
        "colab": {
          "base_uri": "https://localhost:8080/"
        },
        "outputId": "a043d6ad-0574-4a57-e96e-aeed3421983b"
      },
      "source": [
        "# from google.colab import drive\n",
        "# drive.mount('/content/drive')"
      ],
      "execution_count": null,
      "outputs": [
        {
          "output_type": "stream",
          "name": "stdout",
          "text": [
            "Mounted at /content/drive\n"
          ]
        }
      ]
    },
    {
      "cell_type": "code",
      "metadata": {
        "colab": {
          "base_uri": "https://localhost:8080/"
        },
        "id": "MUD2JyKQNNCP",
        "outputId": "85f93e24-82dc-48c2-e176-e32f836c8840"
      },
      "source": [
        "# This Python 3 environment comes with many helpful analytics libraries installed\n",
        "# It is defined by the kaggle/python docker image: https://github.com/kaggle/docker-python\n",
        "\n",
        "#load packages\n",
        "import sys #access to system parameters https://docs.python.org/3/library/sys.html\n",
        "print(\"Python version: {}\". format(sys.version))\n",
        "\n",
        "import pandas as pd #collection of functions for data processing and analysis modeled after R dataframes with SQL like features\n",
        "print(\"pandas version: {}\". format(pd.__version__))\n",
        "\n",
        "import matplotlib #collection of functions for scientific and publication-ready visualization\n",
        "print(\"matplotlib version: {}\". format(matplotlib.__version__))\n",
        "\n",
        "import numpy as np #foundational package for scientific computing\n",
        "print(\"NumPy version: {}\". format(np.__version__))\n",
        "\n",
        "import scipy as sp #collection of functions for scientific computing and advance mathematics\n",
        "print(\"SciPy version: {}\". format(sp.__version__)) \n",
        "\n",
        "import IPython\n",
        "from IPython import display #pretty printing of dataframes in Jupyter notebook\n",
        "print(\"IPython version: {}\". format(IPython.__version__)) \n",
        "\n",
        "import sklearn #collection of machine learning algorithms\n",
        "print(\"scikit-learn version: {}\". format(sklearn.__version__))\n",
        "\n",
        "#misc libraries\n",
        "import random\n",
        "import time\n",
        "\n",
        "\n",
        "#ignore warnings\n",
        "import warnings\n",
        "warnings.filterwarnings('ignore')\n",
        "print('-'*25)"
      ],
      "execution_count": null,
      "outputs": [
        {
          "output_type": "stream",
          "name": "stdout",
          "text": [
            "Python version: 3.7.12 (default, Sep 10 2021, 00:21:48) \n",
            "[GCC 7.5.0]\n",
            "pandas version: 1.1.5\n",
            "matplotlib version: 3.2.2\n",
            "NumPy version: 1.19.5\n",
            "SciPy version: 1.4.1\n",
            "IPython version: 5.5.0\n",
            "scikit-learn version: 1.0.1\n",
            "-------------------------\n"
          ]
        }
      ]
    },
    {
      "cell_type": "code",
      "metadata": {
        "id": "xVi3jsO_K9vz"
      },
      "source": [
        "import seaborn as sns\n",
        "\n",
        "import warnings\n",
        "warnings.filterwarnings('ignore')"
      ],
      "execution_count": null,
      "outputs": []
    },
    {
      "cell_type": "code",
      "metadata": {
        "id": "_NcnmArCQ0Q5"
      },
      "source": [
        "#Common Model Algorithms\n",
        "from sklearn import svm, tree, linear_model, neighbors, naive_bayes, ensemble, discriminant_analysis, gaussian_process\n",
        "\n",
        "#Common Model Helpers\n",
        "from sklearn.preprocessing import OneHotEncoder, LabelEncoder\n",
        "from sklearn import feature_selection\n",
        "from sklearn import model_selection\n",
        "from sklearn import metrics\n",
        "\n",
        "#Visualization\n",
        "import matplotlib as mpl\n",
        "import matplotlib.pyplot as plt\n",
        "import matplotlib.pylab as pylab\n",
        "import seaborn as sns\n",
        "\n",
        "from sklearn.model_selection import train_test_split\n",
        "from sklearn.model_selection import cross_val_score\n",
        "\n",
        "#Configure Visualization Defaults\n",
        "#%matplotlib inline = show plots in Jupyter Notebook browser\n",
        "%matplotlib inline\n",
        "mpl.style.use('ggplot')\n",
        "sns.set_style('white')\n",
        "pylab.rcParams['figure.figsize'] = 12,8"
      ],
      "execution_count": null,
      "outputs": []
    },
    {
      "cell_type": "code",
      "metadata": {
        "id": "r7qyRVGEOFjB"
      },
      "source": [
        "# df = pd.read_csv('/content/drive/MyDrive/DMGroup/cleaned_adult.csv')\n",
        "#df = pd.read_csv('/content/sample_data/adult.csv')\n",
        "df= pd.read_csv('cleaned_adult.csv')"
      ],
      "execution_count": null,
      "outputs": []
    },
    {
      "cell_type": "code",
      "metadata": {
        "colab": {
          "base_uri": "https://localhost:8080/",
          "height": 244
        },
        "id": "5cD388B7W-d4",
        "outputId": "85ce291e-442b-4900-8bc9-9719cb42f5df"
      },
      "source": [
        "df.head()"
      ],
      "execution_count": null,
      "outputs": [
        {
          "output_type": "execute_result",
          "data": {
            "text/html": [
              "<div>\n",
              "<style scoped>\n",
              "    .dataframe tbody tr th:only-of-type {\n",
              "        vertical-align: middle;\n",
              "    }\n",
              "\n",
              "    .dataframe tbody tr th {\n",
              "        vertical-align: top;\n",
              "    }\n",
              "\n",
              "    .dataframe thead th {\n",
              "        text-align: right;\n",
              "    }\n",
              "</style>\n",
              "<table border=\"1\" class=\"dataframe\">\n",
              "  <thead>\n",
              "    <tr style=\"text-align: right;\">\n",
              "      <th></th>\n",
              "      <th>Unnamed: 0</th>\n",
              "      <th>age</th>\n",
              "      <th>education.num</th>\n",
              "      <th>capital.gain</th>\n",
              "      <th>capital.loss</th>\n",
              "      <th>hours.per.week</th>\n",
              "      <th>income</th>\n",
              "      <th>workclass_Gov</th>\n",
              "      <th>workclass_Others</th>\n",
              "      <th>workclass_Private</th>\n",
              "      <th>workclass_Self</th>\n",
              "      <th>race_Others</th>\n",
              "      <th>race_White</th>\n",
              "      <th>marital.status_Divorced</th>\n",
              "      <th>marital.status_Married-AF-spouse</th>\n",
              "      <th>marital.status_Married-civ-spouse</th>\n",
              "      <th>marital.status_Married-spouse-absent</th>\n",
              "      <th>marital.status_Never-married</th>\n",
              "      <th>marital.status_Separated</th>\n",
              "      <th>marital.status_Widowed</th>\n",
              "      <th>occupation_Adm-clerical</th>\n",
              "      <th>occupation_Armed-Forces</th>\n",
              "      <th>occupation_Craft-repair</th>\n",
              "      <th>occupation_Exec-managerial</th>\n",
              "      <th>occupation_Farming-fishing</th>\n",
              "      <th>occupation_Handlers-cleaners</th>\n",
              "      <th>occupation_Machine-op-inspct</th>\n",
              "      <th>occupation_NA</th>\n",
              "      <th>occupation_Other-service</th>\n",
              "      <th>occupation_Priv-house-serv</th>\n",
              "      <th>occupation_Prof-specialty</th>\n",
              "      <th>occupation_Protective-serv</th>\n",
              "      <th>occupation_Sales</th>\n",
              "      <th>occupation_Tech-support</th>\n",
              "      <th>occupation_Transport-moving</th>\n",
              "      <th>relationship_Husband</th>\n",
              "      <th>relationship_Not-in-family</th>\n",
              "      <th>relationship_Other-relative</th>\n",
              "      <th>relationship_Own-child</th>\n",
              "      <th>relationship_Unmarried</th>\n",
              "      <th>relationship_Wife</th>\n",
              "      <th>sex_Female</th>\n",
              "      <th>sex_Male</th>\n",
              "    </tr>\n",
              "  </thead>\n",
              "  <tbody>\n",
              "    <tr>\n",
              "      <th>0</th>\n",
              "      <td>0</td>\n",
              "      <td>90</td>\n",
              "      <td>9</td>\n",
              "      <td>0</td>\n",
              "      <td>4356</td>\n",
              "      <td>40</td>\n",
              "      <td>0</td>\n",
              "      <td>0</td>\n",
              "      <td>1</td>\n",
              "      <td>0</td>\n",
              "      <td>0</td>\n",
              "      <td>0</td>\n",
              "      <td>1</td>\n",
              "      <td>0</td>\n",
              "      <td>0</td>\n",
              "      <td>0</td>\n",
              "      <td>0</td>\n",
              "      <td>0</td>\n",
              "      <td>0</td>\n",
              "      <td>1</td>\n",
              "      <td>0</td>\n",
              "      <td>0</td>\n",
              "      <td>0</td>\n",
              "      <td>0</td>\n",
              "      <td>0</td>\n",
              "      <td>0</td>\n",
              "      <td>0</td>\n",
              "      <td>1</td>\n",
              "      <td>0</td>\n",
              "      <td>0</td>\n",
              "      <td>0</td>\n",
              "      <td>0</td>\n",
              "      <td>0</td>\n",
              "      <td>0</td>\n",
              "      <td>0</td>\n",
              "      <td>0</td>\n",
              "      <td>1</td>\n",
              "      <td>0</td>\n",
              "      <td>0</td>\n",
              "      <td>0</td>\n",
              "      <td>0</td>\n",
              "      <td>1</td>\n",
              "      <td>0</td>\n",
              "    </tr>\n",
              "    <tr>\n",
              "      <th>1</th>\n",
              "      <td>1</td>\n",
              "      <td>82</td>\n",
              "      <td>9</td>\n",
              "      <td>0</td>\n",
              "      <td>4356</td>\n",
              "      <td>18</td>\n",
              "      <td>0</td>\n",
              "      <td>0</td>\n",
              "      <td>0</td>\n",
              "      <td>1</td>\n",
              "      <td>0</td>\n",
              "      <td>0</td>\n",
              "      <td>1</td>\n",
              "      <td>0</td>\n",
              "      <td>0</td>\n",
              "      <td>0</td>\n",
              "      <td>0</td>\n",
              "      <td>0</td>\n",
              "      <td>0</td>\n",
              "      <td>1</td>\n",
              "      <td>0</td>\n",
              "      <td>0</td>\n",
              "      <td>0</td>\n",
              "      <td>1</td>\n",
              "      <td>0</td>\n",
              "      <td>0</td>\n",
              "      <td>0</td>\n",
              "      <td>0</td>\n",
              "      <td>0</td>\n",
              "      <td>0</td>\n",
              "      <td>0</td>\n",
              "      <td>0</td>\n",
              "      <td>0</td>\n",
              "      <td>0</td>\n",
              "      <td>0</td>\n",
              "      <td>0</td>\n",
              "      <td>1</td>\n",
              "      <td>0</td>\n",
              "      <td>0</td>\n",
              "      <td>0</td>\n",
              "      <td>0</td>\n",
              "      <td>1</td>\n",
              "      <td>0</td>\n",
              "    </tr>\n",
              "    <tr>\n",
              "      <th>2</th>\n",
              "      <td>2</td>\n",
              "      <td>66</td>\n",
              "      <td>10</td>\n",
              "      <td>0</td>\n",
              "      <td>4356</td>\n",
              "      <td>40</td>\n",
              "      <td>0</td>\n",
              "      <td>0</td>\n",
              "      <td>1</td>\n",
              "      <td>0</td>\n",
              "      <td>0</td>\n",
              "      <td>1</td>\n",
              "      <td>0</td>\n",
              "      <td>0</td>\n",
              "      <td>0</td>\n",
              "      <td>0</td>\n",
              "      <td>0</td>\n",
              "      <td>0</td>\n",
              "      <td>0</td>\n",
              "      <td>1</td>\n",
              "      <td>0</td>\n",
              "      <td>0</td>\n",
              "      <td>0</td>\n",
              "      <td>0</td>\n",
              "      <td>0</td>\n",
              "      <td>0</td>\n",
              "      <td>0</td>\n",
              "      <td>1</td>\n",
              "      <td>0</td>\n",
              "      <td>0</td>\n",
              "      <td>0</td>\n",
              "      <td>0</td>\n",
              "      <td>0</td>\n",
              "      <td>0</td>\n",
              "      <td>0</td>\n",
              "      <td>0</td>\n",
              "      <td>0</td>\n",
              "      <td>0</td>\n",
              "      <td>0</td>\n",
              "      <td>1</td>\n",
              "      <td>0</td>\n",
              "      <td>1</td>\n",
              "      <td>0</td>\n",
              "    </tr>\n",
              "    <tr>\n",
              "      <th>3</th>\n",
              "      <td>3</td>\n",
              "      <td>54</td>\n",
              "      <td>4</td>\n",
              "      <td>0</td>\n",
              "      <td>3900</td>\n",
              "      <td>40</td>\n",
              "      <td>0</td>\n",
              "      <td>0</td>\n",
              "      <td>0</td>\n",
              "      <td>1</td>\n",
              "      <td>0</td>\n",
              "      <td>0</td>\n",
              "      <td>1</td>\n",
              "      <td>1</td>\n",
              "      <td>0</td>\n",
              "      <td>0</td>\n",
              "      <td>0</td>\n",
              "      <td>0</td>\n",
              "      <td>0</td>\n",
              "      <td>0</td>\n",
              "      <td>0</td>\n",
              "      <td>0</td>\n",
              "      <td>0</td>\n",
              "      <td>0</td>\n",
              "      <td>0</td>\n",
              "      <td>0</td>\n",
              "      <td>1</td>\n",
              "      <td>0</td>\n",
              "      <td>0</td>\n",
              "      <td>0</td>\n",
              "      <td>0</td>\n",
              "      <td>0</td>\n",
              "      <td>0</td>\n",
              "      <td>0</td>\n",
              "      <td>0</td>\n",
              "      <td>0</td>\n",
              "      <td>0</td>\n",
              "      <td>0</td>\n",
              "      <td>0</td>\n",
              "      <td>1</td>\n",
              "      <td>0</td>\n",
              "      <td>1</td>\n",
              "      <td>0</td>\n",
              "    </tr>\n",
              "    <tr>\n",
              "      <th>4</th>\n",
              "      <td>4</td>\n",
              "      <td>41</td>\n",
              "      <td>10</td>\n",
              "      <td>0</td>\n",
              "      <td>3900</td>\n",
              "      <td>40</td>\n",
              "      <td>0</td>\n",
              "      <td>0</td>\n",
              "      <td>0</td>\n",
              "      <td>1</td>\n",
              "      <td>0</td>\n",
              "      <td>0</td>\n",
              "      <td>1</td>\n",
              "      <td>0</td>\n",
              "      <td>0</td>\n",
              "      <td>0</td>\n",
              "      <td>0</td>\n",
              "      <td>0</td>\n",
              "      <td>1</td>\n",
              "      <td>0</td>\n",
              "      <td>0</td>\n",
              "      <td>0</td>\n",
              "      <td>0</td>\n",
              "      <td>0</td>\n",
              "      <td>0</td>\n",
              "      <td>0</td>\n",
              "      <td>0</td>\n",
              "      <td>0</td>\n",
              "      <td>0</td>\n",
              "      <td>0</td>\n",
              "      <td>1</td>\n",
              "      <td>0</td>\n",
              "      <td>0</td>\n",
              "      <td>0</td>\n",
              "      <td>0</td>\n",
              "      <td>0</td>\n",
              "      <td>0</td>\n",
              "      <td>0</td>\n",
              "      <td>1</td>\n",
              "      <td>0</td>\n",
              "      <td>0</td>\n",
              "      <td>1</td>\n",
              "      <td>0</td>\n",
              "    </tr>\n",
              "  </tbody>\n",
              "</table>\n",
              "</div>"
            ],
            "text/plain": [
              "   Unnamed: 0  age  education.num  ...  relationship_Wife  sex_Female  sex_Male\n",
              "0           0   90              9  ...                  0           1         0\n",
              "1           1   82              9  ...                  0           1         0\n",
              "2           2   66             10  ...                  0           1         0\n",
              "3           3   54              4  ...                  0           1         0\n",
              "4           4   41             10  ...                  0           1         0\n",
              "\n",
              "[5 rows x 43 columns]"
            ]
          },
          "metadata": {},
          "execution_count": 6
        }
      ]
    },
    {
      "cell_type": "markdown",
      "metadata": {
        "id": "gZqbDF_8301u"
      },
      "source": [
        "## 4. Model "
      ]
    },
    {
      "cell_type": "markdown",
      "metadata": {
        "id": "lzpL6siQXo11"
      },
      "source": [
        "### Normal aproach"
      ]
    },
    {
      "cell_type": "code",
      "metadata": {
        "id": "gHi3Z4lKYJUi"
      },
      "source": [
        "# Import some evaluation functions\n",
        "from sklearn.metrics import confusion_matrix, accuracy_score, balanced_accuracy_score,roc_auc_score, classification_report, recall_score, f1_score\n",
        "from sklearn.metrics import plot_precision_recall_curve, precision_recall_curve, plot_roc_curve, roc_curve, plot_confusion_matrix\n",
        "\n",
        "#Common Model Algorithms\n",
        "from sklearn import svm, tree, linear_model, neighbors, naive_bayes, ensemble, discriminant_analysis, gaussian_process\n",
        "from xgboost import XGBClassifier\n",
        "\n",
        "#Common Model Helpers\n",
        "from sklearn.preprocessing import OneHotEncoder, LabelEncoder\n",
        "from sklearn import feature_selection\n",
        "from sklearn import model_selection\n",
        "from sklearn import metrics"
      ],
      "execution_count": null,
      "outputs": []
    },
    {
      "cell_type": "code",
      "metadata": {
        "id": "cwK-zEY_EtEv"
      },
      "source": [
        "from sklearn.model_selection import train_test_split\n",
        "\n",
        "X = df.drop('income', axis=1)\n",
        "y = df['income']\n",
        "\n",
        "X_train, X_test, y_train, y_test = train_test_split(X, y, test_size=0.20, random_state=30)"
      ],
      "execution_count": null,
      "outputs": []
    },
    {
      "cell_type": "code",
      "metadata": {
        "id": "_XC4b6j3Kdy8"
      },
      "source": [
        "# from sklearn.compose import ColumnTransformer\n",
        "# from sklearn.preprocessing import StandardScaler\n",
        "\n",
        "# num_col_names = ['age','education.num','capital.gain','capital.loss','hours.per.week']\n",
        "# num_features = X_train[num_col_names]\n",
        "# test_num_features = X_test[num_col_names]\n",
        "\n",
        "# ct = ColumnTransformer([\n",
        "#         ('somename', StandardScaler(), ['age','education.num','capital.gain','capital.loss','hours.per.week'])\n",
        "#     ], remainder='passthrough')\n",
        "\n",
        "# features = ct.fit_transform(num_features)\n",
        "# test_feature = ct.transform(test_num_features)\n",
        "# X_train[num_col_names] = features\n",
        "# X_test[num_col_names] = test_feature"
      ],
      "execution_count": null,
      "outputs": []
    },
    {
      "cell_type": "code",
      "metadata": {
        "id": "-emDkxegEyip"
      },
      "source": [
        "# Import some evaluation functions\n",
        "from sklearn.metrics import confusion_matrix, accuracy_score, balanced_accuracy_score,roc_auc_score, classification_report, recall_score, f1_score\n",
        "from sklearn.metrics import plot_precision_recall_curve, precision_recall_curve, plot_roc_curve, roc_curve, plot_confusion_matrix\n",
        "\n",
        "#Common Model Algorithms\n",
        "from sklearn import svm, tree, linear_model, neighbors, naive_bayes, ensemble, discriminant_analysis, gaussian_process\n",
        "from xgboost import XGBClassifier\n",
        "\n",
        "#Common Model Helpers\n",
        "from sklearn.preprocessing import OneHotEncoder, LabelEncoder\n",
        "from sklearn import feature_selection\n",
        "from sklearn import model_selection\n",
        "from sklearn import metrics"
      ],
      "execution_count": null,
      "outputs": []
    },
    {
      "cell_type": "code",
      "metadata": {
        "id": "xoLLrCU-bK1v"
      },
      "source": [
        "train_models = ['KNN','DecisionTree','RandomForest','XGB','LGBM','GNB','BNB']\n",
        "model_accuracy_train = []\n",
        "model_accuracy = []\n",
        "model_balanced_accuracy = []"
      ],
      "execution_count": null,
      "outputs": []
    },
    {
      "cell_type": "code",
      "metadata": {
        "colab": {
          "base_uri": "https://localhost:8080/",
          "height": 656
        },
        "id": "DoyjO5t-VeAd",
        "outputId": "7a4031df-4c02-4f92-a41d-c57a2bc4db58"
      },
      "source": [
        "from sklearn import neighbors\n",
        "\n",
        "knn_model = neighbors.KNeighborsClassifier(n_neighbors=20, metric='manhattan', weights='uniform')\n",
        "knn_model.fit(X_train, y_train)\n",
        "\n",
        "knn_pred_train = knn_model.predict(X_train)\n",
        "knn_pred = knn_model.predict(X_test)\n",
        "\n",
        "model_accuracy_train.append(accuracy_score(y_train, knn_pred_train))\n",
        "model_accuracy.append(accuracy_score(y_test, knn_pred))\n",
        "model_balanced_accuracy.append(balanced_accuracy_score(y_test, knn_pred))\n",
        "\n",
        "plot_confusion_matrix(knn_model, X_test, y_test, values_format = '', \n",
        "                      display_labels=['<=50K', '>50K'])\n",
        "plt.grid(None)\n",
        "\n",
        "print(classification_report(y_test, knn_pred, zero_division=0))\n"
      ],
      "execution_count": null,
      "outputs": [
        {
          "output_type": "stream",
          "name": "stdout",
          "text": [
            "              precision    recall  f1-score   support\n",
            "\n",
            "           0       0.81      0.99      0.90      4927\n",
            "           1       0.93      0.30      0.45      1586\n",
            "\n",
            "    accuracy                           0.82      6513\n",
            "   macro avg       0.87      0.65      0.67      6513\n",
            "weighted avg       0.84      0.82      0.79      6513\n",
            "\n"
          ]
        },
        {
          "output_type": "display_data",
          "data": {
            "image/png": "[encoded data removed]",
            "text/plain": [
              "<Figure size 864x576 with 2 Axes>"
            ]
          },
          "metadata": {}
        }
      ]
    },
    {
      "cell_type": "code",
      "metadata": {
        "colab": {
          "base_uri": "https://localhost:8080/",
          "height": 674
        },
        "id": "SATZDLu-E82V",
        "outputId": "cd1b0f34-c8fc-4193-cea8-8a90df533cf3"
      },
      "source": [
        "from sklearn.tree import DecisionTreeClassifier         \n",
        "weights = {0:1, 1:3}\n",
        "decision_tree_model = DecisionTreeClassifier(max_depth = 20,min_samples_split = 10,class_weight=weights)\n",
        "decision_tree_model.fit(X_train, y_train)\n",
        "\n",
        "dt_pred_train = decision_tree_model.predict(X_train)\n",
        "dt_pred = decision_tree_model.predict(X_test)\n",
        "\n",
        "model_accuracy_train.append(accuracy_score(y_train, dt_pred_train))\n",
        "model_accuracy.append(accuracy_score(y_test, dt_pred))\n",
        "model_balanced_accuracy.append(balanced_accuracy_score(y_test, dt_pred))\n",
        "\n",
        "plot_confusion_matrix(decision_tree_model, X_test, y_test, values_format = '', \n",
        "                      display_labels=['<=50K', '>50K'])\n",
        "plt.grid(None)\n",
        "print(classification_report(y_test, dt_pred, zero_division=0))\n",
        "\n",
        "print(balanced_accuracy_score(y_test, dt_pred))\n",
        "\n",
        "#\">50K\": 1, \"<=50K\""
      ],
      "execution_count": null,
      "outputs": [
        {
          "output_type": "stream",
          "name": "stdout",
          "text": [
            "              precision    recall  f1-score   support\n",
            "\n",
            "           0       0.92      0.82      0.87      4927\n",
            "           1       0.59      0.78      0.67      1586\n",
            "\n",
            "    accuracy                           0.81      6513\n",
            "   macro avg       0.75      0.80      0.77      6513\n",
            "weighted avg       0.84      0.81      0.82      6513\n",
            "\n",
            "0.8009645745923266\n"
          ]
        },
        {
          "output_type": "display_data",
          "data": {
            "image/png": "[encoded data removed]",
            "text/plain": [
              "<Figure size 864x576 with 2 Axes>"
            ]
          },
          "metadata": {}
        }
      ]
    },
    {
      "cell_type": "code",
      "metadata": {
        "colab": {
          "base_uri": "https://localhost:8080/",
          "height": 674
        },
        "id": "32Pb97QCFILi",
        "outputId": "ca3671c7-a546-45a7-a6d1-7f9312511368"
      },
      "source": [
        "from sklearn.ensemble import RandomForestClassifier\n",
        "\n",
        "rf = RandomForestClassifier(n_estimators = 900,max_depth = 20,min_samples_split = 10)\n",
        "rf.fit(X_train, y_train)\n",
        "\n",
        "rf_pred_train = rf.predict(X_train)\n",
        "rf_pred = rf.predict(X_test)\n",
        "\n",
        "model_accuracy_train.append(accuracy_score(y_train, rf_pred_train))\n",
        "model_accuracy.append(accuracy_score(y_test, rf_pred))\n",
        "model_balanced_accuracy.append(balanced_accuracy_score(y_test, rf_pred))\n",
        "\n",
        "plot_confusion_matrix(rf, X_test, y_test, values_format = '', \n",
        "                      display_labels=['<=50K', '>50K'])\n",
        "plt.grid(None)\n",
        "print(classification_report(y_test, rf_pred, zero_division=0))\n",
        "\n",
        "print(balanced_accuracy_score(y_test, rf_pred))\n",
        "\n",
        "# balanced_accuracy.append(balanced_accuracy_score(y_test, rf_pred))"
      ],
      "execution_count": null,
      "outputs": [
        {
          "output_type": "stream",
          "name": "stdout",
          "text": [
            "              precision    recall  f1-score   support\n",
            "\n",
            "           0       0.87      0.95      0.91      4927\n",
            "           1       0.79      0.58      0.67      1586\n",
            "\n",
            "    accuracy                           0.86      6513\n",
            "   macro avg       0.83      0.76      0.79      6513\n",
            "weighted avg       0.85      0.86      0.85      6513\n",
            "\n",
            "0.7630803168888727\n"
          ]
        },
        {
          "output_type": "display_data",
          "data": {
            "image/png": "[encoded data removed]",
            "text/plain": [
              "<Figure size 864x576 with 2 Axes>"
            ]
          },
          "metadata": {}
        }
      ]
    },
    {
      "cell_type": "code",
      "metadata": {
        "colab": {
          "base_uri": "https://localhost:8080/"
        },
        "id": "-Avc_QKkVJsT",
        "outputId": "ba9fa6ea-ee81-48ec-b482-144e29cd3bb0"
      },
      "source": [
        "print(model_accuracy)\n",
        "print(model_accuracy_train)"
      ],
      "execution_count": null,
      "outputs": [
        {
          "output_type": "stream",
          "name": "stdout",
          "text": [
            "[0.8240442192538001, 0.8120681713496085, 0.8588975894365116]\n",
            "[0.8337300368550369, 0.8913544226044227, 0.9098587223587223]\n"
          ]
        }
      ]
    },
    {
      "cell_type": "code",
      "metadata": {
        "colab": {
          "base_uri": "https://localhost:8080/",
          "height": 674
        },
        "id": "RCy9xaA7Ia_o",
        "outputId": "9b4a5960-f824-4db7-d713-3fd426041c3d"
      },
      "source": [
        "xgb = XGBClassifier(learning_rate = 0.1,n_estimators = 900)\n",
        "xgb.fit(X_train, y_train)\n",
        "\n",
        "xgb_pred_train =  xgb.predict(X_train)\n",
        "xgb_pred = xgb.predict(X_test)\n",
        "\n",
        "model_accuracy_train.append(accuracy_score(y_train, xgb_pred_train))\n",
        "model_accuracy.append(accuracy_score(y_test, xgb_pred))\n",
        "model_balanced_accuracy.append(balanced_accuracy_score(y_test, xgb_pred))\n",
        "\n",
        "\n",
        "plot_confusion_matrix(xgb, X_test, y_test, values_format = '', \n",
        "                      display_labels=['<=50K', '>50K'])\n",
        "plt.grid(None)\n",
        "print(classification_report(y_test, xgb_pred, zero_division=0))\n",
        "print(balanced_accuracy_score(y_test,xgb_pred))\n"
      ],
      "execution_count": null,
      "outputs": [
        {
          "output_type": "stream",
          "name": "stdout",
          "text": [
            "              precision    recall  f1-score   support\n",
            "\n",
            "           0       0.89      0.94      0.91      4927\n",
            "           1       0.78      0.63      0.70      1586\n",
            "\n",
            "    accuracy                           0.87      6513\n",
            "   macro avg       0.84      0.79      0.81      6513\n",
            "weighted avg       0.86      0.87      0.86      6513\n",
            "\n",
            "0.7863038060602834\n"
          ]
        },
        {
          "output_type": "display_data",
          "data": {
            "image/png": "[encoded data removed]",
            "text/plain": [
              "<Figure size 864x576 with 2 Axes>"
            ]
          },
          "metadata": {}
        }
      ]
    },
    {
      "cell_type": "code",
      "metadata": {
        "colab": {
          "base_uri": "https://localhost:8080/",
          "height": 656
        },
        "id": "b2hOzfWoIsZD",
        "outputId": "02e9be02-61dc-4c52-fc70-29e939764da3"
      },
      "source": [
        "from lightgbm import LGBMClassifier\n",
        "\n",
        "lgb = LGBMClassifier(n_estimators = 900,is_unbalance = True)\n",
        "\n",
        "\n",
        "lgb.fit(X_train, y_train)\n",
        "\n",
        "lgb_pred_train = lgb.predict(X_train)\n",
        "lgb_pred = lgb.predict(X_test)\n",
        "\n",
        "model_accuracy_train.append(accuracy_score(y_train, lgb_pred_train))\n",
        "model_accuracy.append(accuracy_score(y_test, lgb_pred))\n",
        "model_balanced_accuracy.append(balanced_accuracy_score(y_test, lgb_pred))\n",
        "\n",
        "\n",
        "plot_confusion_matrix(lgb, X_test, y_test, values_format = '', \n",
        "                      display_labels=['<=50K', '>50K'])\n",
        "print(classification_report(y_test, lgb_pred, zero_division=0))\n"
      ],
      "execution_count": null,
      "outputs": [
        {
          "output_type": "stream",
          "name": "stdout",
          "text": [
            "              precision    recall  f1-score   support\n",
            "\n",
            "           0       0.92      0.87      0.90      4927\n",
            "           1       0.66      0.77      0.71      1586\n",
            "\n",
            "    accuracy                           0.85      6513\n",
            "   macro avg       0.79      0.82      0.80      6513\n",
            "weighted avg       0.86      0.85      0.85      6513\n",
            "\n"
          ]
        },
        {
          "output_type": "display_data",
          "data": {
            "image/png": "[encoded data removed]",
            "text/plain": [
              "<Figure size 864x576 with 2 Axes>"
            ]
          },
          "metadata": {}
        }
      ]
    },
    {
      "cell_type": "code",
      "metadata": {
        "colab": {
          "base_uri": "https://localhost:8080/",
          "height": 656
        },
        "id": "uyngEc9nTNcl",
        "outputId": "49218fed-3cb2-4e2b-f758-a6dbd0e33e50"
      },
      "source": [
        "from sklearn.naive_bayes import GaussianNB\n",
        "\n",
        "gnb = GaussianNB()\n",
        "gnb.fit(X_train, y_train)\n",
        "\n",
        "gnb_pred_train = gnb.predict(X_train)\n",
        "gnb_pred = gnb.predict(X_test)\n",
        "\n",
        "model_accuracy_train.append(accuracy_score(y_train, gnb_pred_train))\n",
        "model_accuracy.append(accuracy_score(y_test, gnb_pred))\n",
        "model_balanced_accuracy.append(balanced_accuracy_score(y_test, gnb_pred))\n",
        "\n",
        "plot_confusion_matrix(gnb, X_test, y_test, values_format = '', \n",
        "                      display_labels=['<=50K', '>50K'])\n",
        "plt.grid(None)\n",
        "print(classification_report(y_test, gnb_pred, zero_division=0))\n",
        "\n"
      ],
      "execution_count": null,
      "outputs": [
        {
          "output_type": "stream",
          "name": "stdout",
          "text": [
            "              precision    recall  f1-score   support\n",
            "\n",
            "           0       0.91      0.82      0.86      4927\n",
            "           1       0.57      0.76      0.65      1586\n",
            "\n",
            "    accuracy                           0.80      6513\n",
            "   macro avg       0.74      0.79      0.76      6513\n",
            "weighted avg       0.83      0.80      0.81      6513\n",
            "\n"
          ]
        },
        {
          "output_type": "display_data",
          "data": {
            "image/png": "[encoded data removed]",
            "text/plain": [
              "<Figure size 864x576 with 2 Axes>"
            ]
          },
          "metadata": {}
        }
      ]
    },
    {
      "cell_type": "code",
      "metadata": {
        "colab": {
          "base_uri": "https://localhost:8080/",
          "height": 674
        },
        "id": "xFycwmNpTwKA",
        "outputId": "aa8cd4bd-09b9-45bf-aeac-56e6a992e34a"
      },
      "source": [
        "from sklearn.naive_bayes import BernoulliNB\n",
        "\n",
        "bnb = BernoulliNB()\n",
        "bnb.fit(X_train, y_train)\n",
        "\n",
        "bnb_pred_train = bnb.predict(X_train)\n",
        "bnb_pred = bnb.predict(X_test)\n",
        "\n",
        "model_accuracy_train.append(accuracy_score(y_train, bnb_pred_train))\n",
        "model_accuracy.append(accuracy_score(y_test, bnb_pred))\n",
        "model_balanced_accuracy.append(balanced_accuracy_score(y_test, bnb_pred))\n",
        "\n",
        "plot_confusion_matrix(bnb, X_test, y_test, values_format = '', \n",
        "                      display_labels=['<=50K', '>50K'])\n",
        "plt.grid(None)\n",
        "print(classification_report(y_test, bnb_pred, zero_division=0))\n",
        "\n",
        "print(balanced_accuracy_score(y_test, bnb_pred))"
      ],
      "execution_count": null,
      "outputs": [
        {
          "output_type": "stream",
          "name": "stdout",
          "text": [
            "              precision    recall  f1-score   support\n",
            "\n",
            "           0       0.92      0.72      0.81      4927\n",
            "           1       0.48      0.80      0.60      1586\n",
            "\n",
            "    accuracy                           0.74      6513\n",
            "   macro avg       0.70      0.76      0.70      6513\n",
            "weighted avg       0.81      0.74      0.76      6513\n",
            "\n",
            "0.7576086269368851\n"
          ]
        },
        {
          "output_type": "display_data",
          "data": {
            "image/png": "[encoded data removed]",
            "text/plain": [
              "<Figure size 864x576 with 2 Axes>"
            ]
          },
          "metadata": {}
        }
      ]
    },
    {
      "cell_type": "code",
      "metadata": {
        "id": "INpZoThnX6eN"
      },
      "source": [
        "train_models = ['KNN','DecisionTree','RandomForest','XGB','LGBM','GNB','BNB']"
      ],
      "execution_count": null,
      "outputs": []
    },
    {
      "cell_type": "code",
      "metadata": {
        "colab": {
          "base_uri": "https://localhost:8080/",
          "height": 269
        },
        "id": "MFqBuXNVd_i8",
        "outputId": "dca97495-35e0-4676-f7e6-935149011713"
      },
      "source": [
        "# List the accuracy of all the models\n",
        "2\n",
        "tr_split = pd.DataFrame({'Models': train_models, 'Train Accuracy': model_accuracy_train,'Test Accuracy': model_accuracy, 'IB Accuracy': model_balanced_accuracy})\n",
        "tr_split.head(10)"
      ],
      "execution_count": null,
      "outputs": [
        {
          "output_type": "execute_result",
          "data": {
            "text/html": [
              "<div>\n",
              "<style scoped>\n",
              "    .dataframe tbody tr th:only-of-type {\n",
              "        vertical-align: middle;\n",
              "    }\n",
              "\n",
              "    .dataframe tbody tr th {\n",
              "        vertical-align: top;\n",
              "    }\n",
              "\n",
              "    .dataframe thead th {\n",
              "        text-align: right;\n",
              "    }\n",
              "</style>\n",
              "<table border=\"1\" class=\"dataframe\">\n",
              "  <thead>\n",
              "    <tr style=\"text-align: right;\">\n",
              "      <th></th>\n",
              "      <th>Models</th>\n",
              "      <th>Train Accuracy</th>\n",
              "      <th>Test Accuracy</th>\n",
              "      <th>IB Accuracy</th>\n",
              "    </tr>\n",
              "  </thead>\n",
              "  <tbody>\n",
              "    <tr>\n",
              "      <th>0</th>\n",
              "      <td>KNN</td>\n",
              "      <td>0.833730</td>\n",
              "      <td>0.824044</td>\n",
              "      <td>0.646196</td>\n",
              "    </tr>\n",
              "    <tr>\n",
              "      <th>1</th>\n",
              "      <td>DecisionTree</td>\n",
              "      <td>0.891354</td>\n",
              "      <td>0.812068</td>\n",
              "      <td>0.800965</td>\n",
              "    </tr>\n",
              "    <tr>\n",
              "      <th>2</th>\n",
              "      <td>RandomForest</td>\n",
              "      <td>0.909859</td>\n",
              "      <td>0.858898</td>\n",
              "      <td>0.763080</td>\n",
              "    </tr>\n",
              "    <tr>\n",
              "      <th>3</th>\n",
              "      <td>XGB</td>\n",
              "      <td>0.890318</td>\n",
              "      <td>0.867189</td>\n",
              "      <td>0.786304</td>\n",
              "    </tr>\n",
              "    <tr>\n",
              "      <th>4</th>\n",
              "      <td>LGBM</td>\n",
              "      <td>0.940610</td>\n",
              "      <td>0.846461</td>\n",
              "      <td>0.820490</td>\n",
              "    </tr>\n",
              "    <tr>\n",
              "      <th>5</th>\n",
              "      <td>GNB</td>\n",
              "      <td>0.808354</td>\n",
              "      <td>0.804391</td>\n",
              "      <td>0.788836</td>\n",
              "    </tr>\n",
              "    <tr>\n",
              "      <th>6</th>\n",
              "      <td>BNB</td>\n",
              "      <td>0.734106</td>\n",
              "      <td>0.738062</td>\n",
              "      <td>0.757609</td>\n",
              "    </tr>\n",
              "  </tbody>\n",
              "</table>\n",
              "</div>"
            ],
            "text/plain": [
              "         Models  Train Accuracy  Test Accuracy  IB Accuracy\n",
              "0           KNN        0.833730       0.824044     0.646196\n",
              "1  DecisionTree        0.891354       0.812068     0.800965\n",
              "2  RandomForest        0.909859       0.858898     0.763080\n",
              "3           XGB        0.890318       0.867189     0.786304\n",
              "4          LGBM        0.940610       0.846461     0.820490\n",
              "5           GNB        0.808354       0.804391     0.788836\n",
              "6           BNB        0.734106       0.738062     0.757609"
            ]
          },
          "metadata": {},
          "execution_count": 21
        }
      ]
    },
    {
      "cell_type": "code",
      "metadata": {
        "colab": {
          "base_uri": "https://localhost:8080/",
          "height": 398
        },
        "id": "SGEA36EGYwqO",
        "outputId": "9b038441-6a1d-411b-d379-54f56d4636b9"
      },
      "source": [
        "tr_split.plot(x=\"Models\", y=[\"Train Accuracy\", \"Test Accuracy\"], kind=\"bar\",figsize=(10,5))\n",
        "\n",
        "plt.show()"
      ],
      "execution_count": null,
      "outputs": [
        {
          "output_type": "display_data",
          "data": {
            "image/png": "[encoded data removed]",
            "text/plain": [
              "<Figure size 720x360 with 1 Axes>"
            ]
          },
          "metadata": {}
        }
      ]
    },
    {
      "cell_type": "code",
      "metadata": {
        "colab": {
          "base_uri": "https://localhost:8080/",
          "height": 398
        },
        "id": "pfw-C4ea-UyN",
        "outputId": "664be7d4-ca97-4b2a-8e53-6e1bc19e042e"
      },
      "source": [
        "tr_split.plot(x=\"Models\", y=[\"IB Accuracy\"], kind=\"bar\",figsize=(5,5))\n",
        "\n",
        "plt.show()"
      ],
      "execution_count": null,
      "outputs": [
        {
          "output_type": "display_data",
          "data": {
            "image/png": "[encoded data removed]",
            "text/plain": [
              "<Figure size 360x360 with 1 Axes>"
            ]
          },
          "metadata": {}
        }
      ]
    },
    {
      "cell_type": "markdown",
      "metadata": {
        "id": "jDziby1hdYpc"
      },
      "source": [
        "#### Model tuning "
      ]
    },
    {
      "cell_type": "code",
      "metadata": {
        "id": "6LLlGYadyYvY"
      },
      "source": [
        "tun_models = ['KNN','Decision Tree']\n",
        "tun_acc = []\n",
        "# tun_acc_ib = []"
      ],
      "execution_count": null,
      "outputs": []
    },
    {
      "cell_type": "code",
      "metadata": {
        "id": "uqFQr4GOMpYX",
        "colab": {
          "base_uri": "https://localhost:8080/"
        },
        "outputId": "1c7156ea-25d3-481d-f9fa-0fc8a14d912b"
      },
      "source": [
        "from sklearn.model_selection import GridSearchCV\n",
        "from sklearn.pipeline import Pipeline\n",
        "from sklearn.preprocessing import StandardScaler\n",
        "from sklearn.neighbors import KNeighborsClassifier\n",
        "\n",
        "# Try to tune the number of neighbors k for k-NN:\n",
        "\n",
        "knn_pipe = Pipeline([('scaler', StandardScaler()), ('knn', KNeighborsClassifier(n_jobs=-1))])\n",
        "knn_params = {'knn__n_neighbors': range(1, 25)}\n",
        "knn_grid = GridSearchCV(knn_pipe, knn_params, cv=10, n_jobs=-1, verbose=True)\n",
        "\n",
        "knn_grid.fit(X_train, y_train)\n",
        "\n",
        "knn_grid.best_params_, knn_grid.best_score_"
      ],
      "execution_count": null,
      "outputs": [
        {
          "output_type": "stream",
          "name": "stdout",
          "text": [
            "Fitting 10 folds for each of 24 candidates, totalling 240 fits\n"
          ]
        },
        {
          "output_type": "execute_result",
          "data": {
            "text/plain": [
              "({'knn__n_neighbors': 21}, 0.8387209844001993)"
            ]
          },
          "metadata": {},
          "execution_count": 25
        }
      ]
    },
    {
      "cell_type": "code",
      "metadata": {
        "colab": {
          "base_uri": "https://localhost:8080/",
          "height": 708
        },
        "id": "bf__5k7ry-rs",
        "outputId": "434e47de-2835-40aa-db79-24798b049b0f"
      },
      "source": [
        "# build knn with best params\n",
        "knn_model_bp = neighbors.KNeighborsClassifier(n_neighbors=21)\n",
        "knn_model_bp.fit(X_train, y_train)\n",
        "\n",
        "knn_pred_train = knn_model_bp.predict(X_train)\n",
        "knn_pred = knn_model_bp.predict(X_test)\n",
        "\n",
        "# model_accuracy_train.append(accuracy_score(y_train, knn_pred_train))\n",
        "# model_accuracy.append(accuracy_score(y_test, knn_pred))\n",
        "# model_balanced_accuracy.append(balanced_accuracy_score(y_test, knn_pred))\n",
        "\n",
        "plot_confusion_matrix(knn_model_bp, X_test, y_test, values_format = '', \n",
        "                      display_labels=['<=50K', '>50K'])\n",
        "plt.grid(None)\n",
        "\n",
        "print(classification_report(y_test, knn_pred, zero_division=0))\n",
        "print(accuracy_score(y_train, knn_pred_train))\n",
        "print(accuracy_score(y_test, knn_pred))\n",
        "print(balanced_accuracy_score(y_test, knn_pred))"
      ],
      "execution_count": null,
      "outputs": [
        {
          "output_type": "stream",
          "name": "stdout",
          "text": [
            "              precision    recall  f1-score   support\n",
            "\n",
            "           0       0.81      0.99      0.89      4927\n",
            "           1       0.93      0.30      0.45      1586\n",
            "\n",
            "    accuracy                           0.82      6513\n",
            "   macro avg       0.87      0.65      0.67      6513\n",
            "weighted avg       0.84      0.82      0.79      6513\n",
            "\n",
            "0.8320408476658476\n",
            "0.8234300629510211\n",
            "0.6455762326691\n"
          ]
        },
        {
          "output_type": "display_data",
          "data": {
            "image/png": "[encoded data removed]",
            "text/plain": [
              "<Figure size 864x576 with 2 Axes>"
            ]
          },
          "metadata": {}
        }
      ]
    },
    {
      "cell_type": "code",
      "metadata": {
        "colab": {
          "base_uri": "https://localhost:8080/"
        },
        "id": "C4yhb-7Dbom8",
        "outputId": "adcd348b-88b7-46db-977d-a93d6f0c0d48"
      },
      "source": [
        "from sklearn.model_selection import GridSearchCV\n",
        "\n",
        "dt_clf = DecisionTreeClassifier()\n",
        "params = {\n",
        "    \"criterion\":['gini','entropy'],\n",
        "    \"max_depth\": range(1,10),\n",
        "    \"min_samples_split\":range(1,10),\n",
        "    \"min_samples_leaf\":range(1,5)\n",
        "}\n",
        "\n",
        "dt_grid = GridSearchCV(dt_clf, param_grid=params, cv = 10,verbose=1,n_jobs=-1,scoring='accuracy')\n",
        "dt_grid.fit(X_train, y_train)"
      ],
      "execution_count": null,
      "outputs": [
        {
          "output_type": "stream",
          "name": "stdout",
          "text": [
            "Fitting 10 folds for each of 648 candidates, totalling 6480 fits\n"
          ]
        },
        {
          "output_type": "execute_result",
          "data": {
            "text/plain": [
              "GridSearchCV(cv=10, estimator=DecisionTreeClassifier(), n_jobs=-1,\n",
              "             param_grid={'criterion': ['gini', 'entropy'],\n",
              "                         'max_depth': range(1, 10),\n",
              "                         'min_samples_leaf': range(1, 5),\n",
              "                         'min_samples_split': range(1, 10)},\n",
              "             scoring='accuracy', verbose=1)"
            ]
          },
          "metadata": {},
          "execution_count": 28
        }
      ]
    },
    {
      "cell_type": "code",
      "metadata": {
        "colab": {
          "base_uri": "https://localhost:8080/"
        },
        "id": "XNPNNs6Hb6Fg",
        "outputId": "c889c692-e870-4f7b-f05b-c97aaf8fa7c6"
      },
      "source": [
        "print(dt_grid.best_params_)\n",
        "print(dt_grid.best_score_)"
      ],
      "execution_count": null,
      "outputs": [
        {
          "output_type": "stream",
          "name": "stdout",
          "text": [
            "{'criterion': 'gini', 'max_depth': 8, 'min_samples_leaf': 4, 'min_samples_split': 3}\n",
            "0.8575323214543695\n"
          ]
        }
      ]
    },
    {
      "cell_type": "code",
      "metadata": {
        "colab": {
          "base_uri": "https://localhost:8080/",
          "height": 691
        },
        "id": "psfi0Rwib9SR",
        "outputId": "9d58735f-45ae-44ca-cbeb-ab1b37065381"
      },
      "source": [
        "decision_tree_model = DecisionTreeClassifier(criterion='gini',max_depth=8,min_samples_leaf=4,min_samples_split=3)\n",
        "decision_tree_model.fit(X_train, y_train)\n",
        "y_pred = decision_tree_model.predict(X_test)\n",
        "y_pred_train = decision_tree_model.predict(X_train)\n",
        "\n",
        "plot_confusion_matrix(decision_tree_model, X_test, y_test, values_format = '', \n",
        "                      display_labels=['Not Fraud', 'Fraud'])\n",
        "plt.grid(None)\n",
        "print(classification_report(y_test, y_pred, zero_division=0))\n",
        "print(accuracy_score(y_test, y_pred))\n",
        "print(accuracy_score(y_train, y_pred_train))\n",
        "# print(balanced_accuracy_score(y_train, y_test))"
      ],
      "execution_count": null,
      "outputs": [
        {
          "output_type": "stream",
          "name": "stdout",
          "text": [
            "              precision    recall  f1-score   support\n",
            "\n",
            "           0       0.85      0.97      0.91      4927\n",
            "           1       0.83      0.48      0.61      1586\n",
            "\n",
            "    accuracy                           0.85      6513\n",
            "   macro avg       0.84      0.73      0.76      6513\n",
            "weighted avg       0.85      0.85      0.83      6513\n",
            "\n",
            "0.849531705819131\n",
            "0.8619855651105651\n"
          ]
        },
        {
          "output_type": "display_data",
          "data": {
            "image/png": "[encoded data removed]",
            "text/plain": [
              "<Figure size 864x576 with 2 Axes>"
            ]
          },
          "metadata": {}
        }
      ]
    },
    {
      "cell_type": "markdown",
      "metadata": {
        "id": "r_nhIPq7aHPw"
      },
      "source": [
        "### Advanced Model"
      ]
    },
    {
      "cell_type": "code",
      "metadata": {
        "id": "AhfpUL5LaNcc"
      },
      "source": [
        "# Import important libraries\n",
        "import torch\n",
        "from torch import nn\n",
        "from torch.utils import data"
      ],
      "execution_count": null,
      "outputs": []
    },
    {
      "cell_type": "markdown",
      "metadata": {
        "id": "zoMU5-XTedBj"
      },
      "source": [
        "### Undersample Approach"
      ]
    },
    {
      "cell_type": "code",
      "metadata": {
        "id": "AEDmru0ZfaF7"
      },
      "source": [
        "from collections import Counter\n",
        "from sklearn.datasets import make_classification\n",
        "from imblearn.over_sampling import RandomOverSampler \n",
        "from imblearn.under_sampling import RandomUnderSampler "
      ],
      "execution_count": null,
      "outputs": []
    },
    {
      "cell_type": "code",
      "metadata": {
        "colab": {
          "base_uri": "https://localhost:8080/"
        },
        "id": "pvVQzwiGgvVF",
        "outputId": "96dc752a-3ab9-40a7-e31a-a975547224aa"
      },
      "source": [
        "# rus = RandomOverSampler(random_state=34)\n",
        "# # y_1 = df_us['income']\n",
        "# # X_1 = df_us.drop('income', axis=1)\n",
        "# X_train_us, y_train_us = rus.fit_resample(X_train, y_train)\n",
        "# print(f'Data set size before Under Sampling: {X_train.shape}')\n",
        "# print(f'Data set size after Under Sampling: {X_train_us.shape}')"
      ],
      "execution_count": null,
      "outputs": [
        {
          "output_type": "stream",
          "name": "stdout",
          "text": [
            "Data set size before Under Sampling: (26048, 42)\n",
            "Data set size after Under Sampling: (39586, 42)\n"
          ]
        }
      ]
    },
    {
      "cell_type": "code",
      "source": [
        "df_us = df.copy() \n",
        "rus = RandomUnderSampler(sampling_strategy='not minority',random_state=34)\n",
        "y = df_us['income']\n",
        "X = df_us.drop('income', axis=1)\n",
        "X_us, y_us = rus.fit_resample(X, y)\n",
        "print(f'Data set size before Under Sampling: {X.shape}')\n",
        "print(f'Data set size after Under Sampling: {X_us.shape}')"
      ],
      "metadata": {
        "colab": {
          "base_uri": "https://localhost:8080/"
        },
        "id": "cz-NXKvQySmP",
        "outputId": "c66c0b12-cc5f-4b6e-8f43-840bcafe902c"
      },
      "execution_count": null,
      "outputs": [
        {
          "output_type": "stream",
          "name": "stdout",
          "text": [
            "Data set size before Under Sampling: (32561, 42)\n",
            "Data set size after Under Sampling: (15682, 42)\n"
          ]
        }
      ]
    },
    {
      "cell_type": "code",
      "metadata": {
        "id": "BurFNX39ht0l"
      },
      "source": [
        "X_train_us, X_test_us, y_train_us, y_test_us = train_test_split(X_us, y_us, test_size=0.20, random_state=33)"
      ],
      "execution_count": null,
      "outputs": []
    },
    {
      "cell_type": "code",
      "metadata": {
        "colab": {
          "base_uri": "https://localhost:8080/",
          "height": 483
        },
        "id": "lOJET45z50ZM",
        "outputId": "bb35adea-969a-4b66-f6fd-a6bf416ed7b8"
      },
      "source": [
        "y_train_us.value_counts().plot(kind='pie', labels=['<=50k','>50k'],  fontsize=14,autopct='%1.1f%%')"
      ],
      "execution_count": null,
      "outputs": [
        {
          "output_type": "execute_result",
          "data": {
            "text/plain": [
              "<matplotlib.axes._subplots.AxesSubplot at 0x7f418c8ff610>"
            ]
          },
          "metadata": {},
          "execution_count": 49
        },
        {
          "output_type": "display_data",
          "data": {
            "image/png": "[encoded data removed]",
            "text/plain": [
              "<Figure size 864x576 with 1 Axes>"
            ]
          },
          "metadata": {}
        }
      ]
    },
    {
      "cell_type": "code",
      "metadata": {
        "id": "ijAV6nnRhxpg"
      },
      "source": [
        "models = ['DT','RF','XGB','LGBM','GNB','BNB']\n",
        "train_accuracy = []\n",
        "accuracy = []"
      ],
      "execution_count": null,
      "outputs": []
    },
    {
      "cell_type": "code",
      "metadata": {
        "colab": {
          "base_uri": "https://localhost:8080/",
          "height": 656
        },
        "id": "YzDVBPpvh00T",
        "outputId": "3d757e87-ac24-4cf6-9527-1dca18232c1a"
      },
      "source": [
        "decision_tree_model = DecisionTreeClassifier(max_depth=5)\n",
        "decision_tree_model.fit(X_train_us, y_train_us)\n",
        "\n",
        "dt_pred_train_us = decision_tree_model.predict(X_train_us)\n",
        "dt_pred_us = decision_tree_model.predict(X_test_us)\n",
        "\n",
        "plot_confusion_matrix(decision_tree_model, X_test_us, y_test_us, values_format = '', \n",
        "                      display_labels=['Not Fraud', 'Fraud'])\n",
        "plt.grid(None)\n",
        "print(classification_report(y_test_us, dt_pred_us, zero_division=0))\n",
        "\n",
        "train_accuracy.append(accuracy_score(y_train_us, dt_pred_train_us))\n",
        "accuracy.append(accuracy_score(y_test_us, dt_pred_us))"
      ],
      "execution_count": null,
      "outputs": [
        {
          "output_type": "stream",
          "name": "stdout",
          "text": [
            "              precision    recall  f1-score   support\n",
            "\n",
            "           0       0.85      0.77      0.81      1552\n",
            "           1       0.80      0.87      0.83      1585\n",
            "\n",
            "    accuracy                           0.82      3137\n",
            "   macro avg       0.83      0.82      0.82      3137\n",
            "weighted avg       0.83      0.82      0.82      3137\n",
            "\n"
          ]
        },
        {
          "output_type": "display_data",
          "data": {
            "image/png": "[encoded data removed]",
            "text/plain": [
              "<Figure size 864x576 with 2 Axes>"
            ]
          },
          "metadata": {}
        }
      ]
    },
    {
      "cell_type": "code",
      "metadata": {
        "colab": {
          "base_uri": "https://localhost:8080/",
          "height": 656
        },
        "id": "E4xTimOrh6sy",
        "outputId": "b9fb137f-cb9e-47a9-d3e0-8892d29e4404"
      },
      "source": [
        "rf = RandomForestClassifier(n_estimators = 900,max_depth = 20,min_samples_split = 10)\n",
        "\n",
        "# fit the predictor and target\n",
        "rf.fit(X_train_us, y_train_us)\n",
        "         \n",
        "# predict\n",
        "\n",
        "rf_pred_train =  rf.predict(X_train_us)\n",
        "rf_pred = rf.predict(X_test_us)\n",
        "\n",
        "plot_confusion_matrix(rf, X_test_us, y_test, values_format = '', \n",
        "                      display_labels=['<=50K', '>50K'])\n",
        "plt.grid(None)\n",
        "print(classification_report(y_test_us, rf_pred, zero_division=0))\n",
        "\n",
        "train_accuracy.append(accuracy_score(y_train_us, rf_pred_train))\n",
        "accuracy.append(accuracy_score(y_test_us, rf_pred))"
      ],
      "execution_count": null,
      "outputs": [
        {
          "output_type": "stream",
          "name": "stdout",
          "text": [
            "              precision    recall  f1-score   support\n",
            "\n",
            "           0       0.85      0.81      0.83      1552\n",
            "           1       0.82      0.86      0.84      1585\n",
            "\n",
            "    accuracy                           0.83      3137\n",
            "   macro avg       0.84      0.83      0.83      3137\n",
            "weighted avg       0.84      0.83      0.83      3137\n",
            "\n"
          ]
        },
        {
          "output_type": "display_data",
          "data": {
            "image/png": "[encoded data removed]",
            "text/plain": [
              "<Figure size 864x576 with 2 Axes>"
            ]
          },
          "metadata": {}
        }
      ]
    },
    {
      "cell_type": "code",
      "metadata": {
        "colab": {
          "base_uri": "https://localhost:8080/",
          "height": 656
        },
        "id": "4UpXnQ-SiOZP",
        "outputId": "29f3e008-d425-447f-8e51-a0e092300581"
      },
      "source": [
        "xgb = XGBClassifier(learning_rate = 0.1,n_estimators = 900)\n",
        "xgb.fit(X_train_us, y_train_us)\n",
        "\n",
        "xgb_pred_train = xgb.predict(X_train_us)\n",
        "xgb_pred = xgb.predict(X_test_us)\n",
        "\n",
        "plot_confusion_matrix(xgb, X_test_us, y_test_us, values_format = '', \n",
        "                      display_labels=['<=50K', '>50K'])\n",
        "plt.grid(None)\n",
        "print(classification_report(y_test_us, xgb_pred, zero_division=0))\n",
        "\n",
        "train_accuracy.append(accuracy_score(y_train_us,xgb_pred_train))\n",
        "accuracy.append(accuracy_score(y_test_us, xgb_pred))"
      ],
      "execution_count": null,
      "outputs": [
        {
          "output_type": "stream",
          "name": "stdout",
          "text": [
            "              precision    recall  f1-score   support\n",
            "\n",
            "           0       0.85      0.82      0.83      1552\n",
            "           1       0.83      0.86      0.84      1585\n",
            "\n",
            "    accuracy                           0.84      3137\n",
            "   macro avg       0.84      0.84      0.84      3137\n",
            "weighted avg       0.84      0.84      0.84      3137\n",
            "\n"
          ]
        },
        {
          "output_type": "display_data",
          "data": {
            "image/png": "[encoded data removed]",
            "text/plain": [
              "<Figure size 864x576 with 2 Axes>"
            ]
          },
          "metadata": {}
        }
      ]
    },
    {
      "cell_type": "code",
      "metadata": {
        "colab": {
          "base_uri": "https://localhost:8080/",
          "height": 656
        },
        "id": "tdnZLf8PiYN6",
        "outputId": "d654e87f-3f58-4044-bcc4-0c430d05ff4f"
      },
      "source": [
        "from lightgbm import LGBMClassifier\n",
        "\n",
        "lgb = LGBMClassifier(n_estimators = 64,is_unbalance = False)\n",
        "\n",
        "\n",
        "lgb.fit(X_train_us, y_train_us)\n",
        "\n",
        "lgb_pred_train = lgb.predict(X_train_us)\n",
        "lgb_pred = lgb.predict(X_test_us)\n",
        "\n",
        "accuracy.append(accuracy_score(y_test_us, lgb_pred))\n",
        "train_accuracy.append(accuracy_score(y_train_us, lgb_pred_train))\n",
        "\n",
        "plot_confusion_matrix(lgb, X_test_us, y_test_us, values_format = '', \n",
        "                      display_labels=['<=50K', '>50K'])\n",
        "print(classification_report(y_test_us, lgb_pred, zero_division=0))"
      ],
      "execution_count": null,
      "outputs": [
        {
          "output_type": "stream",
          "name": "stdout",
          "text": [
            "              precision    recall  f1-score   support\n",
            "\n",
            "           0       0.85      0.81      0.83      1552\n",
            "           1       0.82      0.87      0.84      1585\n",
            "\n",
            "    accuracy                           0.84      3137\n",
            "   macro avg       0.84      0.84      0.84      3137\n",
            "weighted avg       0.84      0.84      0.84      3137\n",
            "\n"
          ]
        },
        {
          "output_type": "display_data",
          "data": {
            "image/png": "[encoded data removed]",
            "text/plain": [
              "<Figure size 864x576 with 2 Axes>"
            ]
          },
          "metadata": {}
        }
      ]
    },
    {
      "cell_type": "code",
      "source": [
        "from sklearn.naive_bayes import GaussianNB\n",
        "\n",
        "gnb = GaussianNB()\n",
        "gnb.fit(X_train_us, y_train_us)\n",
        "\n",
        "gnb_pred_train = gnb.predict(X_train_us)\n",
        "gnb_pred = gnb.predict(X_test_us)\n",
        "\n",
        "# model_accuracy_train.append(accuracy_score(y_train_us, gnb_pred_train))\n",
        "# model_accuracy.append(accuracy_score(y_test, gnb_pred))\n",
        "# model_balanced_accuracy.append(balanced_accuracy_score(y_test, gnb_pred))\n",
        "\n",
        "accuracy.append(accuracy_score(y_test, gnb_pred))\n",
        "train_accuracy.append(accuracy_score(y_train_us, gnb_pred_train))\n",
        "\n",
        "plot_confusion_matrix(gnb, X_test_us, y_test_us, values_format = '', \n",
        "                      display_labels=['<=50K', '>50K'])\n",
        "plt.grid(None)\n",
        "print(classification_report(y_test_us, gnb_pred, zero_division=0))\n"
      ],
      "metadata": {
        "colab": {
          "base_uri": "https://localhost:8080/",
          "height": 656
        },
        "id": "z40csgpuoR85",
        "outputId": "c6e30e19-1848-4f00-e349-8b14f19c790a"
      },
      "execution_count": null,
      "outputs": [
        {
          "output_type": "stream",
          "name": "stdout",
          "text": [
            "              precision    recall  f1-score   support\n",
            "\n",
            "           0       0.81      0.77      0.79      1552\n",
            "           1       0.78      0.82      0.80      1585\n",
            "\n",
            "    accuracy                           0.80      3137\n",
            "   macro avg       0.80      0.79      0.79      3137\n",
            "weighted avg       0.80      0.80      0.79      3137\n",
            "\n"
          ]
        },
        {
          "output_type": "display_data",
          "data": {
            "image/png": "[encoded data removed]",
            "text/plain": [
              "<Figure size 864x576 with 2 Axes>"
            ]
          },
          "metadata": {}
        }
      ]
    },
    {
      "cell_type": "code",
      "source": [
        "from sklearn.naive_bayes import BernoulliNB\n",
        "\n",
        "bnb = BernoulliNB()\n",
        "bnb.fit(X_train_us, y_train_us)\n",
        "\n",
        "bnb_pred_train = bnb.predict(X_train_us)\n",
        "bnb_pred = bnb.predict(X_test_us)\n",
        "\n",
        "accuracy.append(accuracy_score(y_test_us, bnb_pred))\n",
        "train_accuracy.append(accuracy_score(y_train_us, bnb_pred_train))\n",
        "\n",
        "plot_confusion_matrix(bnb, X_test_us, y_test_us, values_format = '', \n",
        "                      display_labels=['<=50K', '>50K'])\n",
        "plt.grid(None)\n",
        "print(classification_report(y_test_us, bnb_pred, zero_division=0))\n",
        "\n",
        "print(balanced_accuracy_score(y_test_us, bnb_pred))"
      ],
      "metadata": {
        "colab": {
          "base_uri": "https://localhost:8080/",
          "height": 674
        },
        "id": "hicX8QQHo99d",
        "outputId": "20e22fd3-e3b7-4cc4-e2d5-a24fed162be4"
      },
      "execution_count": null,
      "outputs": [
        {
          "output_type": "stream",
          "name": "stdout",
          "text": [
            "              precision    recall  f1-score   support\n",
            "\n",
            "           0       0.80      0.71      0.75      1552\n",
            "           1       0.74      0.83      0.78      1585\n",
            "\n",
            "    accuracy                           0.77      3137\n",
            "   macro avg       0.77      0.77      0.77      3137\n",
            "weighted avg       0.77      0.77      0.77      3137\n",
            "\n",
            "0.7673151972421868\n"
          ]
        },
        {
          "output_type": "display_data",
          "data": {
            "image/png": "[encoded data removed]",
            "text/plain": [
              "<Figure size 864x576 with 2 Axes>"
            ]
          },
          "metadata": {}
        }
      ]
    },
    {
      "cell_type": "code",
      "metadata": {
        "colab": {
          "base_uri": "https://localhost:8080/",
          "height": 238
        },
        "id": "Ts--kLalftg_",
        "outputId": "0fd49808-d307-4057-a61c-72d41c876d26"
      },
      "source": [
        "acc_tab = pd.DataFrame({'Models' : models, 'Train Accuracy': train_accuracy,'Test Accuracy' : accuracy })\n",
        "acc_tab.head(6)"
      ],
      "execution_count": null,
      "outputs": [
        {
          "output_type": "execute_result",
          "data": {
            "text/html": [
              "<div>\n",
              "<style scoped>\n",
              "    .dataframe tbody tr th:only-of-type {\n",
              "        vertical-align: middle;\n",
              "    }\n",
              "\n",
              "    .dataframe tbody tr th {\n",
              "        vertical-align: top;\n",
              "    }\n",
              "\n",
              "    .dataframe thead th {\n",
              "        text-align: right;\n",
              "    }\n",
              "</style>\n",
              "<table border=\"1\" class=\"dataframe\">\n",
              "  <thead>\n",
              "    <tr style=\"text-align: right;\">\n",
              "      <th></th>\n",
              "      <th>Models</th>\n",
              "      <th>Train Accuracy</th>\n",
              "      <th>Test Accuracy</th>\n",
              "    </tr>\n",
              "  </thead>\n",
              "  <tbody>\n",
              "    <tr>\n",
              "      <th>0</th>\n",
              "      <td>DT</td>\n",
              "      <td>0.818414</td>\n",
              "      <td>0.822761</td>\n",
              "    </tr>\n",
              "    <tr>\n",
              "      <th>1</th>\n",
              "      <td>RF</td>\n",
              "      <td>0.895895</td>\n",
              "      <td>0.834874</td>\n",
              "    </tr>\n",
              "    <tr>\n",
              "      <th>2</th>\n",
              "      <td>XGB</td>\n",
              "      <td>0.878996</td>\n",
              "      <td>0.839974</td>\n",
              "    </tr>\n",
              "    <tr>\n",
              "      <th>3</th>\n",
              "      <td>LGBM</td>\n",
              "      <td>0.977122</td>\n",
              "      <td>0.829455</td>\n",
              "    </tr>\n",
              "    <tr>\n",
              "      <th>4</th>\n",
              "      <td>GNB</td>\n",
              "      <td>0.794500</td>\n",
              "      <td>0.795027</td>\n",
              "    </tr>\n",
              "    <tr>\n",
              "      <th>5</th>\n",
              "      <td>BNB</td>\n",
              "      <td>0.757035</td>\n",
              "      <td>0.767931</td>\n",
              "    </tr>\n",
              "  </tbody>\n",
              "</table>\n",
              "</div>"
            ],
            "text/plain": [
              "  Models  Train Accuracy  Test Accuracy\n",
              "0     DT        0.818414       0.822761\n",
              "1     RF        0.895895       0.834874\n",
              "2    XGB        0.878996       0.839974\n",
              "3   LGBM        0.977122       0.829455\n",
              "4    GNB        0.794500       0.795027\n",
              "5    BNB        0.757035       0.767931"
            ]
          },
          "metadata": {},
          "execution_count": 61
        }
      ]
    },
    {
      "cell_type": "code",
      "metadata": {
        "colab": {
          "base_uri": "https://localhost:8080/",
          "height": 355
        },
        "id": "zbxOtfw0gXsq",
        "outputId": "a2a19c05-6e99-46f1-ad9e-822a7accd311"
      },
      "source": [
        "acc_tab.plot(x=\"Models\", y=[\"Train Accuracy\",'Test Accuracy'], kind=\"bar\",figsize=(10,5))\n",
        "\n",
        "plt.show()"
      ],
      "execution_count": null,
      "outputs": [
        {
          "output_type": "display_data",
          "data": {
            "image/png": "[encoded data removed]",
            "text/plain": [
              "<Figure size 720x360 with 1 Axes>"
            ]
          },
          "metadata": {}
        }
      ]
    },
    {
      "cell_type": "code",
      "source": [
        ""
      ],
      "metadata": {
        "id": "u6shSUQtezWE"
      },
      "execution_count": null,
      "outputs": []
    },
    {
      "cell_type": "code",
      "metadata": {
        "id": "4QR1TjgR6LLI"
      },
      "source": [
        "# Import standard Scalar:\n",
        "from sklearn.preprocessing import StandardScaler\n",
        "sc = StandardScaler()"
      ],
      "execution_count": null,
      "outputs": []
    },
    {
      "cell_type": "code",
      "metadata": {
        "id": "hfDdSnjn6OB-"
      },
      "source": [
        "# X_train= X_train_us\n",
        "# y_train= y_train_us\n",
        "# X_test= X_test\n",
        "# y_test=y_test"
      ],
      "execution_count": null,
      "outputs": []
    },
    {
      "cell_type": "code",
      "metadata": {
        "id": "dRSqWn-M6RWi"
      },
      "source": [
        "# # Convert training and test dataframes to tensors:\n",
        "# X_train.shape\n",
        "# X_train= sc.fit_transform(X_train)\n",
        "# X_test= sc.fit_transform(X_test)\n",
        "\n",
        "# #X_train_t=torch.tensor(X_train.values,dtype= torch.float32) \n",
        "# #y_train_t=torch.tensor(y_train.values,dtype= torch.float32) \n",
        "# #X_test_t=torch.tensor(X_test.values,dtype= torch.float32) \n",
        "# #y_test_t= torch.tensor(y_test.values,dtype= torch.float32) \n",
        "\n",
        "# X_train_t= torch.from_numpy(X_train)\n",
        "# X_train_t= X_train_t.type(torch.float32)\n",
        "# y_train_t=torch.tensor(y_train.values,dtype= torch.float32) \n",
        "# X_test_t=torch.from_numpy(X_test)\n",
        "# X_test_t=X_test_t.type(torch.float32)\n",
        "# y_test_t= torch.tensor(y_test.values,dtype= torch.float32) \n",
        "\n",
        "# y_train_t= y_train_t.reshape(-1, 1)\n",
        "# y_test_t= y_test_t.reshape(-1, 1)\n",
        "\n",
        "# def load_array(data_arrays, batch_size, is_train=True):  \n",
        "#     \"\"\"Construct a PyTorch data iterator.\"\"\"\n",
        "#     dataset = data.TensorDataset(*data_arrays)\n",
        "#     return data.DataLoader(dataset, batch_size, shuffle=is_train)\n",
        "\n",
        "# batch_size = 50\n",
        "# train_iter = load_array((X_train_t, y_train_t), batch_size)\n",
        "# test_iter = load_array((X_test_t, y_test_t), batch_size)\n",
        "\n",
        "# # Define the neural network\n",
        "# input_shape=X_train_t.shape[1]\n",
        "# print(\"Input shape is: \",input_shape)\n",
        "# class Net(nn.Module):\n",
        "#     def __init__(self):\n",
        "#         super(Net, self).__init__()\n",
        "#         # layers here\n",
        "#         self.l1 = nn.Linear(input_shape,32)\n",
        "#         self.l2 = nn.Linear(32,64)\n",
        "#         self.l3 = nn.Linear(64,1)\n",
        "\n",
        "#         self.batchnorm1 = nn.BatchNorm1d(32)\n",
        "#         self.batchnorm2 = nn.BatchNorm1d(64)\n",
        "#         #self.dropout = nn.Dropout(p=0.05)\n",
        "\n",
        "#     def forward(self, x):    \n",
        "#         x = torch.relu(self.l1(x))\n",
        "#         x = self.batchnorm1(x)\n",
        "#         x = torch.relu(self.l2(x))\n",
        "#         x = self.batchnorm2(x)\n",
        "#         #x= self.dropout(x)\n",
        "#         x = torch.sigmoid(self.l3(x))\n",
        "#         return x\n",
        "# # The output of the neural network is a sigmoid function(range from 0 to 1) which makes the network suitable for binary classification.\n",
        "\n",
        "# #Set the parameters\n",
        "# learning_rate = 0.01\n",
        "# num_epochs = 50\n",
        "# # Model , Optimizer, Loss\n",
        "# model = Net()\n",
        "# optimizer = torch.optim.Adam(model.parameters(),lr=learning_rate)\n",
        "# criterion = nn.BCELoss()\n",
        "# #criterion= nn.BCEWithLogitsLoss()\n",
        "# # Binary Cross Entropy loss is the standard loss function used for binary classification"
      ],
      "execution_count": null,
      "outputs": []
    },
    {
      "cell_type": "code",
      "metadata": {
        "id": "sZ27fvkP6RzR"
      },
      "source": [
        "# # Training the CNN:\n",
        "\n",
        "# device = torch.device(\"cuda:0\") if torch.cuda.is_available() else torch.device(\"cpu\")\n",
        "# print(device)\n",
        "# model.to(device)\n",
        "# model.train()\n",
        "# Loss=[]\n",
        "# Epoch=[]\n",
        "# ite=0\n",
        "# for epoch in range(num_epochs):\n",
        "#   epoch_loss = 0\n",
        "#   ite +=1\n",
        "#   for i, (Data, labels) in enumerate(train_iter):\n",
        "#         #images = Variable(images)\n",
        "#         #labels = Variable(labels)\n",
        "#         Data =  Data.to(device)\n",
        "#         labels  =  labels.to(device)\n",
        "#         #ite +=1\n",
        "        \n",
        "#         optimizer.zero_grad()\n",
        "#         outputs = model(Data)\n",
        "#         loss = criterion(outputs, labels)\n",
        "#         epoch_loss +=loss.item()\n",
        "#         loss.backward()\n",
        "#         optimizer.step()\n",
        "#   print(\"Loss for each epoch is: \",epoch_loss/len(train_iter))\n",
        "#   Loss.append(epoch_loss/len(train_iter))\n",
        "\n",
        "#   Epoch.append(ite)\n",
        "\n",
        "# plt.plot(Epoch,Loss )\n",
        "# plt.ylabel('Loss')\n",
        "# plt.xlabel('Epoch')\n",
        "# plt.title('Training Loss vs Epoch')"
      ],
      "execution_count": null,
      "outputs": []
    },
    {
      "cell_type": "code",
      "metadata": {
        "id": "JgwQ6CqS6XMo"
      },
      "source": [
        "# # Testing the CNN:\n",
        "# model.eval()\n",
        "# true_preds, num_preds = 0., 0.\n",
        "\n",
        "# y_pred_list=[]\n",
        "# y_labels=[]\n",
        "# with torch.no_grad():\n",
        "#     for i, (X_batch,y_batch) in enumerate (test_iter):\n",
        "#         X_batch = X_batch.to(device)\n",
        "#         y_batch= y_batch.to(device)\n",
        "#         y_test_pred = model(X_batch)\n",
        "#         #y_test_pred = torch.sigmoid(y_test_pred)\n",
        "#         y_pred_tag = torch.round(y_test_pred)\n",
        "\n",
        "#         true_preds += (y_pred_tag == y_batch).sum()\n",
        "#         num_preds += y_batch.shape[0]\n",
        "\n",
        "#         y_pred_list.append(y_pred_tag.cpu().numpy())\n",
        "#         y_labels.append(y_batch.cpu().numpy())\n",
        "\n",
        "# #y_pred_list = [a.squeeze().tolist() for a in y_pred_list]\n",
        "# #y_pred_list\n",
        "# #print(\"The accuracy is: \")\n",
        "# acc= true_preds / num_preds\n",
        "# print(\"The accuracy of this CNN is: \",acc.item())\n"
      ],
      "execution_count": null,
      "outputs": []
    }
  ]
}