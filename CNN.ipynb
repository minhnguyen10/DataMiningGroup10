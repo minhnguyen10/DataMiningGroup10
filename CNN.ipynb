{
  "nbformat": 4,
  "nbformat_minor": 0,
  "metadata": {
    "colab": {
      "name": "CNN.ipynb",
      "provenance": [],
      "collapsed_sections": [
        "DjwiuvAYAbhA"
      ]
    },
    "kernelspec": {
      "name": "python3",
      "display_name": "Python 3"
    },
    "language_info": {
      "name": "python"
    },
    "accelerator": "GPU"
  },
  "cells": [
    {
      "cell_type": "markdown",
      "metadata": {
        "id": "gKUViF-k_Kjd"
      },
      "source": [
        "#**Group Project: Income Prediction**"
      ]
    },
    {
      "cell_type": "code",
      "metadata": {
        "id": "n3LCA1weBlma",
        "colab": {
          "base_uri": "https://localhost:8080/"
        },
        "outputId": "a5b79dc5-b43d-4f41-9e69-3adb3951315d"
      },
      "source": [
        "# from google.colab import drive\n",
        "# drive.mount('/content/drive')"
      ],
      "execution_count": null,
      "outputs": [
        {
          "output_type": "stream",
          "name": "stdout",
          "text": [
            "Mounted at /content/drive\n"
          ]
        }
      ]
    },
    {
      "cell_type": "markdown",
      "metadata": {
        "id": "t58MrXLNADhh"
      },
      "source": [
        "### Import labraries"
      ]
    },
    {
      "cell_type": "code",
      "metadata": {
        "colab": {
          "base_uri": "https://localhost:8080/"
        },
        "id": "MUD2JyKQNNCP",
        "outputId": "a8abb61b-829c-4ca3-b323-42ad37eaba85"
      },
      "source": [
        "# This Python 3 environment comes with many helpful analytics libraries installed\n",
        "# It is defined by the kaggle/python docker image: https://github.com/kaggle/docker-python\n",
        "\n",
        "#load packages\n",
        "import sys #access to system parameters https://docs.python.org/3/library/sys.html\n",
        "print(\"Python version: {}\". format(sys.version))\n",
        "\n",
        "import pandas as pd #collection of functions for data processing and analysis modeled after R dataframes with SQL like features\n",
        "print(\"pandas version: {}\". format(pd.__version__))\n",
        "\n",
        "import matplotlib #collection of functions for scientific and publication-ready visualization\n",
        "print(\"matplotlib version: {}\". format(matplotlib.__version__))\n",
        "\n",
        "import numpy as np #foundational package for scientific computing\n",
        "print(\"NumPy version: {}\". format(np.__version__))\n",
        "\n",
        "import scipy as sp #collection of functions for scientific computing and advance mathematics\n",
        "print(\"SciPy version: {}\". format(sp.__version__)) \n",
        "\n",
        "import IPython\n",
        "from IPython import display #pretty printing of dataframes in Jupyter notebook\n",
        "print(\"IPython version: {}\". format(IPython.__version__)) \n",
        "\n",
        "import sklearn #collection of machine learning algorithms\n",
        "print(\"scikit-learn version: {}\". format(sklearn.__version__))\n",
        "\n",
        "#misc libraries\n",
        "import random\n",
        "import time\n",
        "\n",
        "\n",
        "#ignore warnings\n",
        "import warnings\n",
        "warnings.filterwarnings('ignore')\n",
        "print('-'*25)"
      ],
      "execution_count": null,
      "outputs": [
        {
          "output_type": "stream",
          "name": "stdout",
          "text": [
            "Python version: 3.7.12 (default, Sep 10 2021, 00:21:48) \n",
            "[GCC 7.5.0]\n",
            "pandas version: 1.1.5\n",
            "matplotlib version: 3.2.2\n",
            "NumPy version: 1.19.5\n",
            "SciPy version: 1.4.1\n",
            "IPython version: 5.5.0\n",
            "scikit-learn version: 1.0.1\n",
            "-------------------------\n"
          ]
        }
      ]
    },
    {
      "cell_type": "code",
      "metadata": {
        "id": "xVi3jsO_K9vz"
      },
      "source": [
        "import seaborn as sns\n",
        "\n",
        "import warnings\n",
        "warnings.filterwarnings('ignore')"
      ],
      "execution_count": null,
      "outputs": []
    },
    {
      "cell_type": "code",
      "metadata": {
        "id": "_NcnmArCQ0Q5"
      },
      "source": [
        "#Common Model Algorithms\n",
        "from sklearn import svm, tree, linear_model, neighbors, naive_bayes, ensemble, discriminant_analysis, gaussian_process\n",
        "\n",
        "#Common Model Helpers\n",
        "from sklearn.preprocessing import OneHotEncoder, LabelEncoder\n",
        "from sklearn import feature_selection\n",
        "from sklearn import model_selection\n",
        "from sklearn import metrics\n",
        "\n",
        "#Visualization\n",
        "import matplotlib as mpl\n",
        "import matplotlib.pyplot as plt\n",
        "import matplotlib.pylab as pylab\n",
        "import seaborn as sns\n",
        "\n",
        "from sklearn.model_selection import train_test_split\n",
        "from sklearn.model_selection import cross_val_score\n",
        "\n",
        "#Configure Visualization Defaults\n",
        "#%matplotlib inline = show plots in Jupyter Notebook browser\n",
        "%matplotlib inline\n",
        "mpl.style.use('ggplot')\n",
        "sns.set_style('white')\n",
        "pylab.rcParams['figure.figsize'] = 12,8"
      ],
      "execution_count": null,
      "outputs": []
    },
    {
      "cell_type": "code",
      "metadata": {
        "id": "r7qyRVGEOFjB"
      },
      "source": [
        "#df = pd.read_csv('/content/drive/MyDrive/DMGroup/cleaned_adult.csv')\n",
        "#df = pd.read_csv('/content/sample_data/adult.csv')\n",
        "df= pd.read_csv('cleaned_adult.csv')"
      ],
      "execution_count": null,
      "outputs": []
    },
    {
      "cell_type": "markdown",
      "metadata": {
        "id": "nxN1m0POE0aW"
      },
      "source": [
        "### Models"
      ]
    },
    {
      "cell_type": "code",
      "metadata": {
        "id": "-emDkxegEyip"
      },
      "source": [
        "# Import some evaluation functions\n",
        "from sklearn.metrics import confusion_matrix, accuracy_score, balanced_accuracy_score,roc_auc_score, classification_report, recall_score, f1_score\n",
        "from sklearn.metrics import plot_precision_recall_curve, precision_recall_curve, plot_roc_curve, roc_curve, plot_confusion_matrix\n",
        "\n",
        "#Common Model Algorithms\n",
        "from sklearn import svm, tree, linear_model, neighbors, naive_bayes, ensemble, discriminant_analysis, gaussian_process\n",
        "from xgboost import XGBClassifier\n",
        "\n",
        "#Common Model Helpers\n",
        "from sklearn.preprocessing import OneHotEncoder, LabelEncoder\n",
        "from sklearn import feature_selection\n",
        "from sklearn import model_selection\n",
        "from sklearn import metrics"
      ],
      "execution_count": null,
      "outputs": []
    },
    {
      "cell_type": "markdown",
      "metadata": {
        "id": "r_nhIPq7aHPw"
      },
      "source": [
        "Using CNN for the cells below:"
      ]
    },
    {
      "cell_type": "code",
      "metadata": {
        "id": "AhfpUL5LaNcc"
      },
      "source": [
        "# Import important libraries\n",
        "import torch\n",
        "from torch import nn\n",
        "from torch.utils import data\n",
        "\n",
        "# Import standard Scalar:\n",
        "from sklearn.preprocessing import StandardScaler\n",
        "sc = StandardScaler()"
      ],
      "execution_count": null,
      "outputs": []
    },
    {
      "cell_type": "code",
      "metadata": {
        "id": "ewSROK7Ixu1x"
      },
      "source": [
        "from sklearn.model_selection import train_test_split\n",
        "\n",
        "X = df.drop('income', axis=1)\n",
        "y = df['income']\n",
        "\n",
        "X_train, X_test, y_train, y_test = train_test_split(X, y, test_size=0.20, random_state=30)"
      ],
      "execution_count": null,
      "outputs": []
    },
    {
      "cell_type": "code",
      "metadata": {
        "id": "f-MJDoIFcLqQ",
        "colab": {
          "base_uri": "https://localhost:8080/"
        },
        "outputId": "e5d987d9-eec8-46f9-c972-d8b3965922ff"
      },
      "source": [
        "# Convert training and test dataframes to tensors:\n",
        "X_train.shape\n",
        "X_train= sc.fit_transform(X_train)\n",
        "X_test= sc.fit_transform(X_test)\n",
        "\n",
        "#X_train_t=torch.tensor(X_train.values,dtype= torch.float32) \n",
        "#y_train_t=torch.tensor(y_train.values,dtype= torch.float32) \n",
        "#X_test_t=torch.tensor(X_test.values,dtype= torch.float32) \n",
        "#y_test_t= torch.tensor(y_test.values,dtype= torch.float32) \n",
        "\n",
        "X_train_t= torch.from_numpy(X_train)\n",
        "X_train_t= X_train_t.type(torch.float32)\n",
        "y_train_t=torch.tensor(y_train.values,dtype= torch.float32) \n",
        "X_test_t=torch.from_numpy(X_test)\n",
        "X_test_t=X_test_t.type(torch.float32)\n",
        "y_test_t= torch.tensor(y_test.values,dtype= torch.float32) \n",
        "\n",
        "y_train_t= y_train_t.reshape(-1, 1)\n",
        "y_test_t= y_test_t.reshape(-1, 1)\n",
        "\n",
        "def load_array(data_arrays, batch_size, is_train=True):  \n",
        "    \"\"\"Construct a PyTorch data iterator.\"\"\"\n",
        "    dataset = data.TensorDataset(*data_arrays)\n",
        "    return data.DataLoader(dataset, batch_size, shuffle=is_train)\n",
        "\n",
        "batch_size = 100\n",
        "train_iter = load_array((X_train_t, y_train_t), batch_size)\n",
        "test_iter = load_array((X_test_t, y_test_t), batch_size)\n",
        "\n",
        "# Define the neural network\n",
        "input_shape=X_train_t.shape[1]\n",
        "print(\"Input shape is: \",input_shape)\n",
        "class Net(nn.Module):\n",
        "    def __init__(self):\n",
        "        super(Net, self).__init__()\n",
        "        # layers here\n",
        "        self.l1 = nn.Linear(input_shape,32)\n",
        "        self.l2 = nn.Linear(32,64)\n",
        "        self.l3 = nn.Linear(64,1)\n",
        "\n",
        "        self.batchnorm1 = nn.BatchNorm1d(32)\n",
        "        self.batchnorm2 = nn.BatchNorm1d(64)\n",
        "        #self.dropout = nn.Dropout(p=0.05)\n",
        "\n",
        "    def forward(self, x):    \n",
        "        x = torch.relu(self.l1(x))\n",
        "        x = self.batchnorm1(x)\n",
        "        x = torch.relu(self.l2(x))\n",
        "        x = self.batchnorm2(x)\n",
        "        #x= self.dropout(x)\n",
        "        x = torch.sigmoid(self.l3(x))\n",
        "        return x\n",
        "# The output of the neural network is a sigmoid function(range from 0 to 1) which makes the network suitable for binary classification.\n",
        "\n",
        "#Set the parameters\n",
        "learning_rate = 0.01\n",
        "num_epochs = 40\n",
        "# Model , Optimizer, Loss\n",
        "model = Net()\n",
        "optimizer = torch.optim.SGD(model.parameters(),lr=learning_rate)\n",
        "criterion = nn.BCELoss()\n",
        "#criterion= nn.BCEWithLogitsLoss()\n",
        "# Binary Cross Entropy loss is the standard loss function used for binary classification\n"
      ],
      "execution_count": null,
      "outputs": [
        {
          "output_type": "stream",
          "name": "stdout",
          "text": [
            "Input shape is:  42\n"
          ]
        }
      ]
    },
    {
      "cell_type": "code",
      "source": [
        "# Training the CNN:\n",
        "\n",
        "device = torch.device(\"cuda:0\") if torch.cuda.is_available() else torch.device(\"cpu\")\n",
        "print(device)\n",
        "model.to(device)\n",
        "model.train()\n",
        "Loss=[]\n",
        "Epoch=[]\n",
        "ite=0\n",
        "for epoch in range(num_epochs):\n",
        "  epoch_loss = 0\n",
        "  ite +=1\n",
        "  for i, (Data, labels) in enumerate(train_iter):\n",
        "        #images = Variable(images)\n",
        "        #labels = Variable(labels)\n",
        "        Data =  Data.to(device)\n",
        "        labels  =  labels.to(device)\n",
        "        #ite +=1\n",
        "        \n",
        "        optimizer.zero_grad()\n",
        "        outputs = model(Data)\n",
        "        loss = criterion(outputs, labels)\n",
        "        epoch_loss +=loss.item()\n",
        "        loss.backward()\n",
        "        optimizer.step()\n",
        "  print(\"Loss for each epoch is: \",epoch_loss/len(train_iter))\n",
        "  Loss.append(epoch_loss/len(train_iter))\n",
        "\n",
        "  Epoch.append(ite)\n",
        "\n",
        "plt.plot(Epoch,Loss )\n",
        "plt.ylabel('Loss')\n",
        "plt.xlabel('Epoch')\n",
        "plt.title('Training Loss vs Epoch')\n"
      ],
      "metadata": {
        "colab": {
          "base_uri": "https://localhost:8080/",
          "height": 1000
        },
        "id": "Xr6U9PK_Zql_",
        "outputId": "6875b92d-fa74-4a55-9194-9bfb7425fc0b"
      },
      "execution_count": null,
      "outputs": [
        {
          "output_type": "stream",
          "name": "stdout",
          "text": [
            "cuda:0\n",
            "Loss for each epoch is:  0.5125096847956208\n",
            "Loss for each epoch is:  0.3840554188151926\n",
            "Loss for each epoch is:  0.353446065466066\n",
            "Loss for each epoch is:  0.34090093760198104\n",
            "Loss for each epoch is:  0.33668822124314945\n",
            "Loss for each epoch is:  0.3298367484547626\n",
            "Loss for each epoch is:  0.32494783795428\n",
            "Loss for each epoch is:  0.32091102980334185\n",
            "Loss for each epoch is:  0.3213519536215684\n",
            "Loss for each epoch is:  0.31804226373118916\n",
            "Loss for each epoch is:  0.316157093107472\n",
            "Loss for each epoch is:  0.31475616357792385\n",
            "Loss for each epoch is:  0.31328721909687435\n",
            "Loss for each epoch is:  0.31226412660774144\n",
            "Loss for each epoch is:  0.3112395200807016\n",
            "Loss for each epoch is:  0.3099645005103729\n",
            "Loss for each epoch is:  0.30999717824303785\n",
            "Loss for each epoch is:  0.308643379601939\n",
            "Loss for each epoch is:  0.3070020586594768\n",
            "Loss for each epoch is:  0.3075178859905265\n",
            "Loss for each epoch is:  0.3062357868842238\n",
            "Loss for each epoch is:  0.3069479523719042\n",
            "Loss for each epoch is:  0.30556393132127563\n",
            "Loss for each epoch is:  0.30429314881905745\n",
            "Loss for each epoch is:  0.304227862721202\n",
            "Loss for each epoch is:  0.30441856561264313\n",
            "Loss for each epoch is:  0.3043191862859945\n",
            "Loss for each epoch is:  0.30345627140268056\n",
            "Loss for each epoch is:  0.30269595917842396\n",
            "Loss for each epoch is:  0.30325713536748483\n",
            "Loss for each epoch is:  0.30250393202478404\n",
            "Loss for each epoch is:  0.3013696659684638\n",
            "Loss for each epoch is:  0.30243685493295674\n",
            "Loss for each epoch is:  0.3009194108261459\n",
            "Loss for each epoch is:  0.2999519388337702\n",
            "Loss for each epoch is:  0.30071651912740366\n",
            "Loss for each epoch is:  0.3016944004087156\n",
            "Loss for each epoch is:  0.2996261199201204\n",
            "Loss for each epoch is:  0.29950414318234525\n",
            "Loss for each epoch is:  0.2996293458787874\n"
          ]
        },
        {
          "output_type": "execute_result",
          "data": {
            "text/plain": [
              "Text(0.5, 1.0, 'Training Loss vs Epoch')"
            ]
          },
          "metadata": {},
          "execution_count": 19
        },
        {
          "output_type": "display_data",
          "data": {
            "image/png": "[encoded data removed]",
            "text/plain": [
              "<Figure size 864x576 with 1 Axes>"
            ]
          },
          "metadata": {}
        }
      ]
    },
    {
      "cell_type": "code",
      "source": [
        "# Testing the CNN:\n",
        "model.eval()\n",
        "true_preds, num_preds = 0., 0.\n",
        "\n",
        "y_pred_list=[]\n",
        "with torch.no_grad():\n",
        "    for i, (X_batch,y_batch) in enumerate (train_iter):\n",
        "        X_batch = X_batch.to(device)\n",
        "        y_batch= y_batch.to(device)\n",
        "        y_train_pred = model(X_batch)\n",
        "        #y_test_pred = torch.sigmoid(y_test_pred)\n",
        "        y_pred_tag = torch.round(y_train_pred)\n",
        "\n",
        "        true_preds += (y_pred_tag == y_batch).sum()\n",
        "        num_preds += y_batch.shape[0]\n",
        "\n",
        "        #y_pred_list.append(y_pred_tag.cpu().numpy())\n",
        "\n",
        "#y_pred_list = [a.squeeze().tolist() for a in y_pred_list]\n",
        "#y_pred_list\n",
        "acc= true_preds / num_preds\n",
        "print(\"Train accuracy is: \",acc.item())"
      ],
      "metadata": {
        "colab": {
          "base_uri": "https://localhost:8080/"
        },
        "id": "2Js7l23eZfRa",
        "outputId": "21548200-1419-4cb2-b6ac-6f044ae7dae7"
      },
      "execution_count": null,
      "outputs": [
        {
          "output_type": "stream",
          "name": "stdout",
          "text": [
            "Train accuracy is:  0.8641738295555115\n"
          ]
        }
      ]
    },
    {
      "cell_type": "code",
      "metadata": {
        "colab": {
          "base_uri": "https://localhost:8080/"
        },
        "id": "C5kDjleprrEg",
        "outputId": "97f4af67-f422-4c51-f4d6-04fdf97e670e"
      },
      "source": [
        "# Testing the CNN:\n",
        "model.eval()\n",
        "true_preds, num_preds = 0., 0.\n",
        "\n",
        "y_pred_list=[]\n",
        "with torch.no_grad():\n",
        "    for i, (X_batch,y_batch) in enumerate (test_iter):\n",
        "        X_batch = X_batch.to(device)\n",
        "        y_batch= y_batch.to(device)\n",
        "        y_test_pred = model(X_batch)\n",
        "        #y_test_pred = torch.sigmoid(y_test_pred)\n",
        "        y_pred_tag = torch.round(y_test_pred)\n",
        "\n",
        "        true_preds += (y_pred_tag == y_batch).sum()\n",
        "        num_preds += y_batch.shape[0]\n",
        "\n",
        "        #y_pred_list.append(y_pred_tag.cpu().numpy())\n",
        "\n",
        "#y_pred_list = [a.squeeze().tolist() for a in y_pred_list]\n",
        "#y_pred_list\n",
        "acc= true_preds / num_preds\n",
        "print(\"Test accuracy is: \",acc.item())"
      ],
      "execution_count": null,
      "outputs": [
        {
          "output_type": "stream",
          "name": "stdout",
          "text": [
            "Test accuracy is:  0.8490710854530334\n"
          ]
        }
      ]
    }
  ]
}